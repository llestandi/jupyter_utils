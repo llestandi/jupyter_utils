{
 "cells": [
  {
   "cell_type": "markdown",
   "id": "8c273382-7436-4a75-9d3f-3bc85ea137e5",
   "metadata": {},
   "source": [
    "# Sort out Academic agenda and plan classes\n",
    "\n",
    "In this notebook, you can import your agenda in `ics` files and inspect proposed classes schedule (typically in XLS files) for next semester. \n",
    "\n",
    "As a teacher in Ecole Centrale de Nantes, this version deals with EI1 weekly schedule and options/small groups schedules."
   ]
  },
  {
   "cell_type": "code",
   "execution_count": 1,
   "id": "ceef02b9-c2aa-4c65-8289-2d3536a0652c",
   "metadata": {},
   "outputs": [],
   "source": [
    "# Import necessary libraries\n",
    "import pandas as pd\n",
    "from icalendar import Calendar\n",
    "from datetime import datetime, time\n",
    "from datetime import datetime, timedelta\n",
    "import calendar\n",
    "import pytz"
   ]
  },
  {
   "cell_type": "markdown",
   "id": "bd67959f-484a-4eea-8e43-a07b15f39603",
   "metadata": {},
   "source": [
    "## Step 1: Import ICS files"
   ]
  },
  {
   "cell_type": "code",
   "execution_count": 2,
   "id": "88db9982-ef41-4d9f-8360-2dd9a49842f3",
   "metadata": {},
   "outputs": [],
   "source": [
    "# Function to read and parse an ICS file\n",
    "def read_ics(file_path):\n",
    "    with open(file_path, 'r') as file:\n",
    "        gcal = Calendar.from_ical(file.read())\n",
    "    utc=pytz.UTC\n",
    "    now = datetime.now().replace(tzinfo=utc)\n",
    "    events = []\n",
    "    for component in gcal.walk():\n",
    "        if component.name == \"VEVENT\":\n",
    "           # try:\n",
    "                dtstart=component.get('dtstart').dt\n",
    "                if isinstance(dtstart, datetime):\n",
    "                    if not dtstart.tzinfo:\n",
    "                        dtstart = dtstart.replace(tzinfo=pytz.UTC)\n",
    "                else:  # if dtstart is a date object\n",
    "                    dtstart = datetime.combine(dtstart, time.min, tzinfo=pytz.UTC)\n",
    "                dtend = component.get('dtend').dt if component.get('dtend') else dtstart\n",
    "                event = {\n",
    "                    'summary': component.get('summary'),\n",
    "                    'dtstart': dtstart,\n",
    "                    'dtend': dtend,\n",
    "                    'location': component.get('location'),\n",
    "                    'description': component.get('description')\n",
    "                }\n",
    "                if dtstart > now:\n",
    "                    events.append(event)\n",
    "            #except:\n",
    "            #    print(\"Data ingnored: some error occured in:\", component)\n",
    "\n",
    "        # Filter events to only include those after now\n",
    "    return pd.DataFrame(events)"
   ]
  },
  {
   "cell_type": "code",
   "execution_count": 3,
   "id": "0fbffe6e-4e13-411f-8132-05d5769265fa",
   "metadata": {},
   "outputs": [],
   "source": [
    "file_path=\"../ECN.ics\"\n",
    "ecn_df=read_ics(file_path)"
   ]
  },
  {
   "cell_type": "markdown",
   "id": "6f268001-045d-4eb4-8428-5c1d29a37d48",
   "metadata": {},
   "source": [
    "# Step 2 reading excel files"
   ]
  },
  {
   "cell_type": "markdown",
   "id": "3b8200c0-1186-4ca9-bb82-2ab83a4fcdcb",
   "metadata": {},
   "source": [
    "## Step 2.1 reading EI1 xls file"
   ]
  },
  {
   "cell_type": "markdown",
   "id": "72724b4c-47ce-4e0f-bfca-63d2e7ac1a63",
   "metadata": {},
   "source": [
    "Albeit annoying, the formatting of the agenda is fixed, so it's fairly easy to obtain the schedule of a given course for a given group.\n",
    "\n",
    "It is build as follow:\n",
    "- each sheet is a week named accordingly\n",
    "- each group is a row\n",
    "- columns correspond to time slots from Mon M1(\"C) to Fri S2 (\"V\")\n",
    "- Each cell is either void or contains the course short name e.g. FLUID, followed by course type (TP, TD, CM)\n",
    "\n",
    "Thus, the extraction function needs to know the structure and find course short name occurences on all sheets and output a dataframe with the same structure as ICS pandas imports.\n",
    "\n",
    "Because of numerous merged cells, it is better for us to rely on `openpyxl` directly. to extract course times and groups. These functions will then be converted into some helper script for yearly analysis."
   ]
  },
  {
   "cell_type": "code",
   "execution_count": 4,
   "id": "495847d3-869d-4c81-bdd2-95fe9a4f9b9f",
   "metadata": {},
   "outputs": [
    {
     "data": {
      "text/plain": [
       "{'M1': ['08:00', '10:00'],\n",
       " 'M2': ['08:00', '10:00'],\n",
       " 'S1': ['10:15', '15:45'],\n",
       " 'S2': ['16:00', '18:00']}"
      ]
     },
     "execution_count": 4,
     "metadata": {},
     "output_type": "execute_result"
    }
   ],
   "source": [
    "class_slots={\"M1\": [\"08:00\",\"10:00\"],\"M2\": [\"08:00\",\"10:00\"],\"S1\": [\"10:15\",\"15:45\"],\"S2\": [\"16:00\",\"18:00\"]}\n",
    "class_slots"
   ]
  },
  {
   "cell_type": "code",
   "execution_count": 5,
   "id": "b5708405-1047-4634-bb3a-1cb7195197e3",
   "metadata": {},
   "outputs": [],
   "source": [
    "file_path=\"../general/EDTs24-25/ET_EI1S5 _2024-2025_VF.xlsx\""
   ]
  },
  {
   "cell_type": "code",
   "execution_count": 12,
   "id": "f1acd22b-57fa-45f0-b6a4-47c9e0410d2b",
   "metadata": {},
   "outputs": [],
   "source": [
    "#https://www.reddit.com/r/excel/comments/10w12bt/is_there_a_way_to_unmerge_cells_and_automatically/\n",
    "import openpyxl\n",
    "\n",
    "\n",
    "def create_merged_cell_lookup(sheet) -> dict:\n",
    "    \"\"\"\n",
    "    Creates a lookup dictionary for merged cells in a given sheet.\n",
    "    \n",
    "    This function iterates through all merged cell ranges in the given sheet,\n",
    "    and creates a dictionary where the keys are the merged cell ranges (as strings)\n",
    "    and the values are the values of the top-left cell in each merged cell range.\n",
    "\n",
    "    Args:\n",
    "        sheet (openpyxl.worksheet.worksheet.Worksheet): The worksheet object to process.\n",
    "\n",
    "    Returns:\n",
    "        dict: A dictionary with merged cell ranges as keys and the top-left cell values as values.\n",
    "    \"\"\"\n",
    "    merged_lookup = {}\n",
    "    for cell_group in sheet.merged_cells.ranges:\n",
    "        min_col, min_row, max_col, max_row = openpyxl.utils.range_boundaries(str(cell_group))\n",
    "        #if min_col == max_col:\n",
    "        top_left_cell_value = sheet.cell(row=min_row, column=min_col).value\n",
    "        merged_lookup[str(cell_group)] = top_left_cell_value\n",
    "    return merged_lookup\n",
    "\n",
    " \n",
    "def unmerge_cell_copy_top_value(workbook_path: str, output_save=\"\", verbose: bool=False):\n",
    "    \"\"\"\n",
    "    Unmerges cells in the given workbook and copies the top-left cell value to all cells in each previously merged range.\n",
    "    \n",
    "    This function opens the workbook at the given path, processes each worksheet by unmerging all merged cells,\n",
    "    and copies the value of the top-left cell in each merged range to all cells in that range. The modified workbook\n",
    "    is saved as \"ready4Import.xlsx\" in the current working directory.\n",
    "\n",
    "    Args:\n",
    "        workbook_path (str): The path to the Excel workbook to process.\n",
    "        output_save (str): if not empty, will save the file to requested ouput.\n",
    "        verbose (bool): If True, print debug information during processing. Default is False.\n",
    "\n",
    "    Returns:\n",
    "        openpyxl.workbook.workbook.Workbook: The modified workbook object.\n",
    "    \"\"\"\n",
    "    wbook = openpyxl.load_workbook(workbook_path)\n",
    "    \n",
    "    for sheet in wbook.worksheets:\n",
    "        lookup = create_merged_cell_lookup(sheet)\n",
    "        if verbose: print(lookup)\n",
    "        cell_group_list = lookup.keys()\n",
    "        for cell_group in cell_group_list:\n",
    "            min_col, min_row, max_col, max_row = openpyxl.utils.range_boundaries(str(cell_group))\n",
    "            sheet.unmerge_cells(str(cell_group))\n",
    "            if verbose: print(min_col, min_row, max_col, max_row)\n",
    "            for row in sheet.iter_rows(min_col=min_col, min_row=min_row, max_col=max_col, max_row=max_row):\n",
    "                if verbose :print(lookup[cell_group])\n",
    "                for cell in row:\n",
    "                    cell.value = lookup[cell_group]\n",
    "                    if verbose: print(cell.coordinate)\n",
    "    if output_save : \n",
    "        wbook.save(output_save)\n",
    "    return wbook\n",
    "\n",
    "def search_string_in_workbook(wbook: \"openpyxl workbook\", search_string: str):\n",
    "    \"\"\"\n",
    "    Searches for a specified string in all sheets of a workbook and extracts their coordinates along with sheet names and cell values.\n",
    "\n",
    "    This function iterates through each worksheet in the provided openpyxl workbook, searches for the specified string in all cells,\n",
    "    and stores the results, including the sheet name, cell coordinate, and cell value.\n",
    "\n",
    "    Args:\n",
    "        wbook (openpyxl.workbook.workbook.Workbook): The openpyxl workbook object to process.\n",
    "        search_string (str): The string to search for in the workbook.\n",
    "\n",
    "    Returns:\n",
    "        list: A list of lists, where each inner list contains the sheet name, cell coordinate, and cell value of a match.\n",
    "    \"\"\"\n",
    "    search_results=[]\n",
    "    for sheet in wbook.worksheets:\n",
    "        search_results+=search_string_in_worksheet(sheet,search_string)\n",
    "    \n",
    "    return search_results\n",
    "\n",
    "\n",
    "def search_string_in_worksheet(sheet, search_string):\n",
    "    search_results=[]\n",
    "    for row in sheet.iter_rows():\n",
    "            for cell in row:\n",
    "                if cell.value and isinstance(cell.value, str):\n",
    "                    if search_string in cell.value:\n",
    "                        search_results.append([sheet.title,cell.coordinate, cell.value])\n",
    "    return search_results\n"
   ]
  },
  {
   "cell_type": "code",
   "execution_count": 71,
   "id": "fb8502ec-03b9-4c03-ac83-207f162eeecd",
   "metadata": {},
   "outputs": [],
   "source": [
    "def extract_schedule_by_group_EI1(file_path,course_name,group_name,course_type, display_group_schedule=False):\n",
    "    \"\"\"\n",
    "    This function is specific to the design of EI1 course schedule xlsx file at ECN\n",
    "    \"\"\"\n",
    "    class_slots={\"M1\": [\"08:00\",\"10:00\"],\"M2\": [\"08:00\",\"10:00\"],\"S1\": [\"10:15\",\"15:45\"],\"S2\": [\"16:00\",\"18:00\"]}\n",
    "    tz = pytz.timezone('Europe/Paris')\n",
    "\n",
    "    events=[]\n",
    "    wbook=unmerge_cell_copy_top_value(file_path)\n",
    "    \n",
    "    #finding group row using column B\n",
    "    for row in wbook[\"40\"].iter_rows(min_col=2, min_row=4, max_col=2, max_row=20):\n",
    "        for cell in row:\n",
    "            if cell.value and isinstance(cell.value, str):\n",
    "                if group_name in cell.value:\n",
    "                    groups_row=str(cell.row)\n",
    "                    \n",
    "    occurences=search_string_in_workbook(wbook , search_string=course_name)\n",
    "    for occ in occurences:\n",
    "        if occ[1][1:] != groups_row or occ[2].split()[1][:2] not in course_type: continue # Beware very hacky test\n",
    "        # extracting date\n",
    "        date_pos=occ[1][0]+\"3\"\n",
    "        date=wbook[occ[0]][date_pos].value.split()[1] # dropping day name\n",
    "        slot_pos=occ[1][0]+\"4\"\n",
    "        slot=wbook[occ[0]][slot_pos].value.strip()\n",
    "        \n",
    "        dtstart= tz.localize(datetime.strptime(date+\" \"+class_slots[slot][0],'%d/%m/%y %H:%M'))#converting to date object\n",
    "        dtend= tz.localize(datetime.strptime(date+\" \"+class_slots[slot][1],'%d/%m/%y %H:%M'))#converting to date object\n",
    "\n",
    "        if display_group_schedule: \n",
    "            print(date,slot, occ[2])\n",
    "            \n",
    "        events.append({ 'summary': occ[2],\n",
    "                        'dtstart': dtstart,\n",
    "                        'dtend': dtend})\n",
    "    return events"
   ]
  },
  {
   "cell_type": "code",
   "execution_count": 74,
   "id": "df0b6194-8b98-4f95-936e-450595f0f4ae",
   "metadata": {
    "scrolled": true
   },
   "outputs": [
    {
     "name": "stdout",
     "output_type": "stream",
     "text": [
      "27/09/24 M2 ALGO CM1\n",
      "27/09/24 S2 ALGO TD 1\n",
      "04/10/24 S2 ALGO CM2\n",
      "11/10/24 S1 ALGO TD 2\n",
      "04/11/24 S2 ALGO TD 3\n",
      "13/11/24 M2 ALGO TD 4\n",
      "20/11/24 S2 ALGO TD 5\n",
      "28/11/24 M2 ALGO CM3\n",
      "04/12/24 M1 ALGO TD 6\n",
      "13/12/24 S1 ALGO TP1\n",
      "13/12/24 S2 ALGO TP1\n",
      "20/12/24 S1 ALGO TP2\n",
      "20/12/24 S2 ALGO TP2\n",
      "10/01/25 M1 ALGO TP3\n",
      "10/01/25 M2 ALGO TP3\n"
     ]
    }
   ],
   "source": [
    "EI1_events=extract_schedule_by_group_EI1(file_path,\"ALGO\",\"B\",[\"TP\",\"TD\", \"CM\"],True)"
   ]
  },
  {
   "cell_type": "code",
   "execution_count": 75,
   "id": "4b983d5a-1af4-4c80-9c32-19b8be336d0a",
   "metadata": {},
   "outputs": [],
   "source": [
    "# export this data in the same format as ICS extractions to facilitate review"
   ]
  },
  {
   "cell_type": "markdown",
   "id": "5347beb8-6983-4d4e-9f5d-b3aa8c731d26",
   "metadata": {},
   "source": [
    "## Step 2.2 : read Option schedule and BBA"
   ]
  },
  {
   "cell_type": "markdown",
   "id": "bf539242-c03d-47c6-9cf9-367e38410467",
   "metadata": {},
   "source": [
    "# Step 3: report conflict and export complete schedule for vizualtion"
   ]
  },
  {
   "cell_type": "code",
   "execution_count": null,
   "id": "a714de7b-a6fe-4b42-9c6e-f0ef81733690",
   "metadata": {},
   "outputs": [],
   "source": []
  }
 ],
 "metadata": {
  "kernelspec": {
   "display_name": "Python 3 (ipykernel)",
   "language": "python",
   "name": "python3"
  },
  "language_info": {
   "codemirror_mode": {
    "name": "ipython",
    "version": 3
   },
   "file_extension": ".py",
   "mimetype": "text/x-python",
   "name": "python",
   "nbconvert_exporter": "python",
   "pygments_lexer": "ipython3",
   "version": "3.11.5"
  }
 },
 "nbformat": 4,
 "nbformat_minor": 5
}
