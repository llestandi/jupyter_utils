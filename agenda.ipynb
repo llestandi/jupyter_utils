{
 "cells": [
  {
   "cell_type": "markdown",
   "id": "8c273382-7436-4a75-9d3f-3bc85ea137e5",
   "metadata": {},
   "source": [
    "# Sort out Academic agenda and plan classes\n",
    "\n",
    "In this notebook, you can import your agenda in `ics` files and inspect proposed classes schedule (typically in XLS files) for next semester. \n",
    "\n",
    "As a teacher in Ecole Centrale de Nantes, this version deals with EI1 weekly schedule and options/small groups schedules."
   ]
  },
  {
   "cell_type": "code",
   "execution_count": 1,
   "id": "1ca56cea-41a4-4ad5-b904-3b0290a67539",
   "metadata": {},
   "outputs": [],
   "source": [
    "%load_ext autoreload\n",
    "%autoreload 2"
   ]
  },
  {
   "cell_type": "code",
   "execution_count": 2,
   "id": "ceef02b9-c2aa-4c65-8289-2d3536a0652c",
   "metadata": {},
   "outputs": [],
   "source": [
    "# Import necessary libraries\n",
    "import pandas as pd\n",
    "from icalendar import Calendar\n",
    "from jupyter_utils.agenda_ecn import * "
   ]
  },
  {
   "cell_type": "markdown",
   "id": "bd67959f-484a-4eea-8e43-a07b15f39603",
   "metadata": {},
   "source": [
    "## Step 1: Import ICS files"
   ]
  },
  {
   "cell_type": "code",
   "execution_count": 3,
   "id": "0fbffe6e-4e13-411f-8132-05d5769265fa",
   "metadata": {
    "scrolled": true
   },
   "outputs": [],
   "source": [
    "# reading the ICS file exported from my agenda manager (thunderbird)\n",
    "file_path=\"../ECN.ics\"\n",
    "ecn_df=read_ics(file_path)"
   ]
  },
  {
   "cell_type": "markdown",
   "id": "6f268001-045d-4eb4-8428-5c1d29a37d48",
   "metadata": {},
   "source": [
    "# Step 2 reading excel files"
   ]
  },
  {
   "cell_type": "markdown",
   "id": "3b8200c0-1186-4ca9-bb82-2ab83a4fcdcb",
   "metadata": {},
   "source": [
    "## Step 2.1 reading EI1 xls file"
   ]
  },
  {
   "cell_type": "markdown",
   "id": "72724b4c-47ce-4e0f-bfca-63d2e7ac1a63",
   "metadata": {},
   "source": [
    "Albeit annoying, the formatting of the agenda is fixed, so it's fairly easy to obtain the schedule of a given course for a given group.\n",
    "\n",
    "It is build as follow:\n",
    "- each sheet is a week named accordingly\n",
    "- each group is a row\n",
    "- columns correspond to time slots from Mon M1(\"C) to Fri S2 (\"V\")\n",
    "- Each cell is either void or contains the course short name e.g. FLUID, followed by course type (TP, TD, CM)\n",
    "\n",
    "Thus, the extraction function needs to know the structure and find course short name occurences on all sheets and output a dataframe with the same structure as ICS pandas imports.\n",
    "\n",
    "Because of numerous merged cells, it is better for us to rely on `openpyxl` directly. to extract course times and groups. These functions will then be converted by some helper functions for yearly analysis. As of now the extracted events are saved in a list structure.\n",
    "\n",
    "```python\n",
    "def extract_schedule_1sheet_format(file_path, \n",
    "                                   course_name, \n",
    "                                   date_column, \n",
    "                                   line_slot=\"2\", \n",
    "                                   group_name=None, \n",
    "                                   course_type=None, \n",
    "                                   display_group_schedule=False):\n",
    "    \"\"\"\n",
    "    Extracts the schedule for a specific course from a single-sheet formatted course schedule Excel file.\n",
    "    \n",
    "    Args:\n",
    "        file_path (str): The path to the Excel file containing the course schedule.\n",
    "        course_name (str): The name of the course to search for in the schedule.\n",
    "        date_column (str): The column containing the dates in the schedule.\n",
    "        line_slot (str, optional): The row number in the sheet to look for class slots (default is \"2\").\n",
    "        group_name (str, optional): The group name (not used in current implementation).\n",
    "        course_type (str, optional): The type of the course (not used in current implementation).\n",
    "        display_group_schedule (bool, optional): If True, displays the schedule for the group (default is False).\n",
    "\n",
    "    Returns:\n",
    "        list: A list of dictionaries, each representing an event with keys 'summary', 'dtstart', and 'dtend'.\n",
    "    \n",
    "    Notes:\n",
    "        This function is specific to the design of one-sheet course schedule xlsx files at ECN. \n",
    "        It assumes that the schedule is structured in a specific way with class slots defined as:\n",
    "            - M1: 08:00-10:00\n",
    "            - M2: 10:15-12:15\n",
    "            - S1: 13:45-15:45\n",
    "            - S2: 16:00-18:00\n",
    "        The function handles merged cells and extracts the necessary information based on the course name.\n",
    "\n",
    "        For successive courses, you can add a blank space at the end of the course name in order to disentangle these.\n",
    "    \"\"\"\n",
    "```\n",
    "I'm in charge of two groups for 2024-2025 academic year (E and H). I set `display_group_schedule` to `True` so I can check that the sequence order is correct. Notice that TPx appears twice since the initial 4h event is split into two."
   ]
  },
  {
   "cell_type": "code",
   "execution_count": 4,
   "id": "b5708405-1047-4634-bb3a-1cb7195197e3",
   "metadata": {},
   "outputs": [],
   "source": [
    "file_path=\"../general/EDTs24-25/ET_EI1S5 _2024-2025_VF.xlsx\""
   ]
  },
  {
   "cell_type": "code",
   "execution_count": 5,
   "id": "df0b6194-8b98-4f95-936e-450595f0f4ae",
   "metadata": {
    "scrolled": true
   },
   "outputs": [
    {
     "name": "stdout",
     "output_type": "stream",
     "text": [
      "LUNDI    30/09/24 M2 ALGO TD 1\n",
      "MERCREDI 09/10/24 S2 ALGO TD 2\n",
      "LUNDI    04/11/24 M1 ALGO TD 3\n",
      "VENDREDI 15/11/24 S2 ALGO TD 4\n",
      "MERCREDI 20/11/24 S1 ALGO TD 5\n",
      "LUNDI    02/12/24 S1 ALGO TD 6\n",
      "MERCREDI 18/12/24 S1 ALGO TP1\n",
      "MERCREDI 18/12/24 S2 ALGO TP1\n",
      "LUNDI    06/01/25 M1 ALGO TP2\n",
      "LUNDI    06/01/25 M2 ALGO TP2\n",
      "VENDREDI 10/01/25 S1 ALGO TP3\n",
      "VENDREDI 10/01/25 S2 ALGO TP3\n"
     ]
    }
   ],
   "source": [
    "\n",
    "EI1_events=extract_schedule_by_group_EI1(file_path,\"ALGO\",\"E\",[\"TP\",\"TD\"],True) \n",
    "EI1_events+=extract_schedule_by_group_EI1(file_path,\"ALGO\",\"H\",[\"TP\",\"TD\"],False)"
   ]
  },
  {
   "cell_type": "markdown",
   "id": "5347beb8-6983-4d4e-9f5d-b3aa8c731d26",
   "metadata": {},
   "source": [
    "## Step 2.2 : read Option schedule and BBA"
   ]
  },
  {
   "cell_type": "markdown",
   "id": "a73149c4-8749-4de0-8622-e258b0efad36",
   "metadata": {},
   "source": [
    "Both file follow the same format where a single sheet represents the whole semester. There is only one group (for now during other years, we had a label in the text to know which group does what).\n",
    "A specific column gives the date of the first day of the week. It has to be given by the user.. Then each slot is organized as in EI1 from monday M1 to friday S2. "
   ]
  },
  {
   "cell_type": "code",
   "execution_count": 13,
   "id": "0ce28830-ed45-4b03-8c14-af425bf1a050",
   "metadata": {
    "scrolled": true
   },
   "outputs": [
    {
     "name": "stdout",
     "output_type": "stream",
     "text": [
      "Thu 05/09/24 M2 PAPY CM - LL\n",
      "Fri 06/09/24 S1 PAPY TP – LL\n",
      "Fri 06/09/24 S2 PAPY TP – LL\n",
      "Thu 12/09/24 M1 PAPY CM - LL\n",
      "Thu 12/09/24 M2 PAPY TP – LL\n",
      "Thu 26/09/24 M1 PAPY TP – LL\n",
      "Thu 26/09/24 M2 PAPY TP – LL\n",
      "Thu 03/10/24 M1 PAPY CM - LL\n",
      "Thu 03/10/24 M2 PAPY TP – LL\n",
      "Thu 10/10/24 M1 PAPY TP – LL\n",
      "Thu 10/10/24 M2 PAPY TP – LL\n",
      "Thu 17/10/24 M1 PAPY CM - LL\n",
      "Thu 17/10/24 M2 PAPY TP – LL\n",
      "Thu 24/10/24 M1 PAPY TP – LL\n",
      "Thu 24/10/24 M2 PAPY TP – LL\n",
      "Thu 07/11/24 M1 PAPY DS – LL\n"
     ]
    }
   ],
   "source": [
    "INFOIA=extract_schedule_1sheet_format(\"../general/EDTs24-25/Fichier_type_24_25.INFO IA.xlsx\", \"PAPY\", \"G\",line_slot=\"2\",display_group_schedule=True)"
   ]
  },
  {
   "cell_type": "code",
   "execution_count": 14,
   "id": "70f43abb-bcb7-4849-b3fe-64d2b4a3c07a",
   "metadata": {
    "scrolled": true
   },
   "outputs": [
    {
     "name": "stdout",
     "output_type": "stream",
     "text": [
      "Wed 18/09/24 S1 INFO V - CM LL\n",
      "Wed 25/09/24 S1 INFO V - TP LL + ?\n",
      "Wed 02/10/24 S1 INFO V - CM LL\n",
      "Wed 09/10/24 S1 INFO V - TP LL + ?\n",
      "Wed 16/10/24 S1 INFO V - CM LL\n",
      "Wed 23/10/24 S1 INFO V - TP LL + ?\n",
      "Wed 06/11/24 S1 INFO V - CM LL\n",
      "Wed 13/11/24 S1 INFO V - TP LL + ?\n",
      "Wed 20/11/24 S1 INFO V - CM LL\n",
      "Wed 27/11/24 S1 INFO V - TP LL + ?\n",
      "Wed 04/12/24 S1 INFO V - CM LL\n",
      "Wed 11/12/24 S1 INFO V - TP LL + ?\n",
      "Fri 20/12/24 M2 INFO V - DS LL\n"
     ]
    }
   ],
   "source": [
    "#in order to disambiguate INFOV from INFOVI, I added a blank space at the end of the string.\n",
    "BBA=extract_schedule_1sheet_format(\"../general/EDTs24-25/BBA2_24_25.xlsx\", \"INFO V \", \"C\",display_group_schedule=True)"
   ]
  },
  {
   "cell_type": "markdown",
   "id": "bf539242-c03d-47c6-9cf9-367e38410467",
   "metadata": {},
   "source": [
    "# Step 3: report conflict and export complete schedule for vizualtion"
   ]
  },
  {
   "cell_type": "code",
   "execution_count": 8,
   "id": "625753d6-2454-4756-98fd-0d622671ce52",
   "metadata": {},
   "outputs": [],
   "source": [
    "# Merging events from ecn\n",
    "combined_df = pd.concat([ecn_df,pd.DataFrame(BBA), pd.DataFrame(INFOIA),pd.DataFrame(EI1_events)], ignore_index=True)\n",
    "new_courses_df = pd.concat([pd.DataFrame(BBA), pd.DataFrame(INFOIA),pd.DataFrame(EI1_events)], ignore_index=True)"
   ]
  },
  {
   "cell_type": "code",
   "execution_count": 9,
   "id": "bff00bd7-f8ef-4241-a296-d57813ceefae",
   "metadata": {},
   "outputs": [],
   "source": [
    "# Sort the DataFrame by the 'dtstart' column\n",
    "combined_df = combined_df.sort_values(by='dtstart').reset_index(drop=True)\n",
    "#combined_df"
   ]
  },
  {
   "cell_type": "code",
   "execution_count": 10,
   "id": "dda5f21c-8bde-4830-8d05-1f580ba55b27",
   "metadata": {},
   "outputs": [],
   "source": [
    "conflicts_df=find_conflicting_events(combined_df)"
   ]
  },
  {
   "cell_type": "code",
   "execution_count": 11,
   "id": "7d3db880-efff-456d-a2e1-2050e8b5b1fe",
   "metadata": {},
   "outputs": [
    {
     "data": {
      "text/html": [
       "<div>\n",
       "<style scoped>\n",
       "    .dataframe tbody tr th:only-of-type {\n",
       "        vertical-align: middle;\n",
       "    }\n",
       "\n",
       "    .dataframe tbody tr th {\n",
       "        vertical-align: top;\n",
       "    }\n",
       "\n",
       "    .dataframe thead th {\n",
       "        text-align: right;\n",
       "    }\n",
       "</style>\n",
       "<table border=\"1\" class=\"dataframe\">\n",
       "  <thead>\n",
       "    <tr style=\"text-align: right;\">\n",
       "      <th></th>\n",
       "      <th>event1_summary</th>\n",
       "      <th>event1_dtstart</th>\n",
       "      <th>event1_dtend</th>\n",
       "      <th>event2_summary</th>\n",
       "      <th>event2_dtstart</th>\n",
       "      <th>event2_dtend</th>\n",
       "    </tr>\n",
       "  </thead>\n",
       "  <tbody>\n",
       "    <tr>\n",
       "      <th>0</th>\n",
       "      <td>https://www.wccm2024.org/</td>\n",
       "      <td>2024-07-21 00:00:00+00:00</td>\n",
       "      <td>2024-07-27 23:59:59.999999+00:00</td>\n",
       "      <td>Vol N°AF375 de YVR à CDG - ref:VPFG3H pour LES...</td>\n",
       "      <td>2024-07-27 13:30:00+02:00</td>\n",
       "      <td>2024-07-28 08:15:00+02:00</td>\n",
       "    </tr>\n",
       "    <tr>\n",
       "      <th>1</th>\n",
       "      <td>AF 7771 de Aéroport Paris–Charles de Gaulle - ...</td>\n",
       "      <td>2024-07-28 09:45:00+02:00</td>\n",
       "      <td>2024-07-28 13:19:00+02:00</td>\n",
       "      <td>Air France- AF7771- Paris  7/28/2024 9:45:00 A...</td>\n",
       "      <td>2024-07-28 07:45:00+00:00</td>\n",
       "      <td>2024-07-28 11:19:00+00:00</td>\n",
       "    </tr>\n",
       "    <tr>\n",
       "      <th>2</th>\n",
       "      <td>Jurys BBA 3</td>\n",
       "      <td>2024-09-02 13:30:00+02:00</td>\n",
       "      <td>2024-09-02 17:30:00+02:00</td>\n",
       "      <td>Jurys BBA 3</td>\n",
       "      <td>2024-09-02 13:30:00+02:00</td>\n",
       "      <td>2024-09-02 17:30:00+02:00</td>\n",
       "    </tr>\n",
       "    <tr>\n",
       "      <th>3</th>\n",
       "      <td>ALGO TD 1</td>\n",
       "      <td>2024-10-02 13:45:00+02:00</td>\n",
       "      <td>2024-10-02 15:45:00+02:00</td>\n",
       "      <td>INFO V - CM LL</td>\n",
       "      <td>2024-10-02 13:45:00+02:00</td>\n",
       "      <td>2024-10-02 15:45:00+02:00</td>\n",
       "    </tr>\n",
       "    <tr>\n",
       "      <th>4</th>\n",
       "      <td>PAPY CM - LL</td>\n",
       "      <td>2024-10-17 08:00:00+02:00</td>\n",
       "      <td>2024-10-17 10:00:00+02:00</td>\n",
       "      <td>Matinée séminaire CA</td>\n",
       "      <td>2024-10-17 09:30:00+02:00</td>\n",
       "      <td>2024-10-17 12:30:00+02:00</td>\n",
       "    </tr>\n",
       "    <tr>\n",
       "      <th>5</th>\n",
       "      <td>Matinée séminaire CA</td>\n",
       "      <td>2024-10-17 09:30:00+02:00</td>\n",
       "      <td>2024-10-17 12:30:00+02:00</td>\n",
       "      <td>PAPY TP – LL</td>\n",
       "      <td>2024-10-17 10:15:00+02:00</td>\n",
       "      <td>2024-10-17 12:15:00+02:00</td>\n",
       "    </tr>\n",
       "    <tr>\n",
       "      <th>6</th>\n",
       "      <td>INFO V - CM LL</td>\n",
       "      <td>2024-11-20 13:45:00+01:00</td>\n",
       "      <td>2024-11-20 15:45:00+01:00</td>\n",
       "      <td>ALGO TD 5</td>\n",
       "      <td>2024-11-20 13:45:00+01:00</td>\n",
       "      <td>2024-11-20 15:45:00+01:00</td>\n",
       "    </tr>\n",
       "    <tr>\n",
       "      <th>7</th>\n",
       "      <td>CA Audition des candidats Direction</td>\n",
       "      <td>2025-04-03 00:00:00+00:00</td>\n",
       "      <td>2025-04-04 23:59:59.999999+00:00</td>\n",
       "      <td>Vote</td>\n",
       "      <td>2025-04-04 09:00:00+02:00</td>\n",
       "      <td>2025-04-04 10:00:00+02:00</td>\n",
       "    </tr>\n",
       "  </tbody>\n",
       "</table>\n",
       "</div>"
      ],
      "text/plain": [
       "                                      event1_summary  \\\n",
       "0                          https://www.wccm2024.org/   \n",
       "1  AF 7771 de Aéroport Paris–Charles de Gaulle - ...   \n",
       "2                                        Jurys BBA 3   \n",
       "3                                          ALGO TD 1   \n",
       "4                                       PAPY CM - LL   \n",
       "5                               Matinée séminaire CA   \n",
       "6                                     INFO V - CM LL   \n",
       "7                CA Audition des candidats Direction   \n",
       "\n",
       "              event1_dtstart                      event1_dtend  \\\n",
       "0  2024-07-21 00:00:00+00:00  2024-07-27 23:59:59.999999+00:00   \n",
       "1  2024-07-28 09:45:00+02:00         2024-07-28 13:19:00+02:00   \n",
       "2  2024-09-02 13:30:00+02:00         2024-09-02 17:30:00+02:00   \n",
       "3  2024-10-02 13:45:00+02:00         2024-10-02 15:45:00+02:00   \n",
       "4  2024-10-17 08:00:00+02:00         2024-10-17 10:00:00+02:00   \n",
       "5  2024-10-17 09:30:00+02:00         2024-10-17 12:30:00+02:00   \n",
       "6  2024-11-20 13:45:00+01:00         2024-11-20 15:45:00+01:00   \n",
       "7  2025-04-03 00:00:00+00:00  2025-04-04 23:59:59.999999+00:00   \n",
       "\n",
       "                                      event2_summary  \\\n",
       "0  Vol N°AF375 de YVR à CDG - ref:VPFG3H pour LES...   \n",
       "1  Air France- AF7771- Paris  7/28/2024 9:45:00 A...   \n",
       "2                                        Jurys BBA 3   \n",
       "3                                     INFO V - CM LL   \n",
       "4                               Matinée séminaire CA   \n",
       "5                                       PAPY TP – LL   \n",
       "6                                          ALGO TD 5   \n",
       "7                                               Vote   \n",
       "\n",
       "              event2_dtstart               event2_dtend  \n",
       "0  2024-07-27 13:30:00+02:00  2024-07-28 08:15:00+02:00  \n",
       "1  2024-07-28 07:45:00+00:00  2024-07-28 11:19:00+00:00  \n",
       "2  2024-09-02 13:30:00+02:00  2024-09-02 17:30:00+02:00  \n",
       "3  2024-10-02 13:45:00+02:00  2024-10-02 15:45:00+02:00  \n",
       "4  2024-10-17 09:30:00+02:00  2024-10-17 12:30:00+02:00  \n",
       "5  2024-10-17 10:15:00+02:00  2024-10-17 12:15:00+02:00  \n",
       "6  2024-11-20 13:45:00+01:00  2024-11-20 15:45:00+01:00  \n",
       "7  2025-04-04 09:00:00+02:00  2025-04-04 10:00:00+02:00  "
      ]
     },
     "execution_count": 11,
     "metadata": {},
     "output_type": "execute_result"
    }
   ],
   "source": [
    "# displaying conflicts\n",
    "conflicts_df"
   ]
  },
  {
   "cell_type": "markdown",
   "id": "e23c748c-7304-4f0e-a5cb-84cf573746a0",
   "metadata": {},
   "source": [
    "# Step 4 export to ICS"
   ]
  },
  {
   "cell_type": "code",
   "execution_count": 15,
   "id": "e10f62e4-5531-480f-80fa-5c7771e668e5",
   "metadata": {},
   "outputs": [],
   "source": [
    "df_to_ics(new_courses_df,\"2025.ics\")"
   ]
  },
  {
   "cell_type": "markdown",
   "id": "a0d2176f-6c9f-48af-8aaf-9528ea4ea758",
   "metadata": {},
   "source": [
    "It is now easy to import into your calendar app to check for unforeseen incompatibilities or have a preview of next year's classes before \"Scolarité\" adds it to onboard."
   ]
  }
 ],
 "metadata": {
  "kernelspec": {
   "display_name": "Python 3 (ipykernel)",
   "language": "python",
   "name": "python3"
  },
  "language_info": {
   "codemirror_mode": {
    "name": "ipython",
    "version": 3
   },
   "file_extension": ".py",
   "mimetype": "text/x-python",
   "name": "python",
   "nbconvert_exporter": "python",
   "pygments_lexer": "ipython3",
   "version": "3.11.5"
  }
 },
 "nbformat": 4,
 "nbformat_minor": 5
}
